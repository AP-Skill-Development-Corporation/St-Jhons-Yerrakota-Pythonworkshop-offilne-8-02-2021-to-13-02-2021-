{
 "cells": [
  {
   "cell_type": "markdown",
   "metadata": {},
   "source": [
    "### Data Structres\n",
    "- List\n",
    "- Tuple\n",
    "- Set\n",
    "- Dictionry\n",
    "       - Collection of hetrogenious data\n",
    "       - If you want to store data in dictionaries we should have to \n",
    "       use keys without keys we cannot store the data in dictionaries\n",
    "       - Dictionari will accept key-value based data\n",
    "       - here keys are unique\n",
    "       - Through the keys only we can access the data\n",
    "       - syntax: d = {} or d = dict()\n",
    "       - example: d = {\"key1\":value1,\"key2\":value2,\"key3\":value3.......}\n",
    "       - As a keys we can specify String,int,float,bolean data\n",
    "       - most of the casses keys are must be a  string or integer"
   ]
  },
  {
   "cell_type": "code",
   "execution_count": 7,
   "metadata": {},
   "outputs": [],
   "source": [
    "d = {\"key1\":\"apssdc\",10:\"SJCET\",50.5:76,True:8}"
   ]
  },
  {
   "cell_type": "code",
   "execution_count": 3,
   "metadata": {},
   "outputs": [
    {
     "data": {
      "text/plain": [
       "'SJCET'"
      ]
     },
     "execution_count": 3,
     "metadata": {},
     "output_type": "execute_result"
    }
   ],
   "source": [
    "d[10]"
   ]
  },
  {
   "cell_type": "code",
   "execution_count": 4,
   "metadata": {},
   "outputs": [
    {
     "data": {
      "text/plain": [
       "76"
      ]
     },
     "execution_count": 4,
     "metadata": {},
     "output_type": "execute_result"
    }
   ],
   "source": [
    "d[50.5]"
   ]
  },
  {
   "cell_type": "code",
   "execution_count": 8,
   "metadata": {},
   "outputs": [
    {
     "data": {
      "text/plain": [
       "8"
      ]
     },
     "execution_count": 8,
     "metadata": {},
     "output_type": "execute_result"
    }
   ],
   "source": [
    "d[True]"
   ]
  },
  {
   "cell_type": "code",
   "execution_count": 9,
   "metadata": {},
   "outputs": [],
   "source": [
    "d = {\"id\":123,\"name\":\"mastan\",\"mobile\":1234567890,\"email\":\"mastan@gmail.com\"}"
   ]
  },
  {
   "cell_type": "code",
   "execution_count": 10,
   "metadata": {},
   "outputs": [
    {
     "data": {
      "text/plain": [
       "'mastan@gmail.com'"
      ]
     },
     "execution_count": 10,
     "metadata": {},
     "output_type": "execute_result"
    }
   ],
   "source": [
    "d[\"email\"]"
   ]
  },
  {
   "cell_type": "code",
   "execution_count": 11,
   "metadata": {},
   "outputs": [
    {
     "data": {
      "text/plain": [
       "['__class__',\n",
       " '__contains__',\n",
       " '__delattr__',\n",
       " '__delitem__',\n",
       " '__dir__',\n",
       " '__doc__',\n",
       " '__eq__',\n",
       " '__format__',\n",
       " '__ge__',\n",
       " '__getattribute__',\n",
       " '__getitem__',\n",
       " '__gt__',\n",
       " '__hash__',\n",
       " '__init__',\n",
       " '__init_subclass__',\n",
       " '__iter__',\n",
       " '__le__',\n",
       " '__len__',\n",
       " '__lt__',\n",
       " '__ne__',\n",
       " '__new__',\n",
       " '__reduce__',\n",
       " '__reduce_ex__',\n",
       " '__repr__',\n",
       " '__setattr__',\n",
       " '__setitem__',\n",
       " '__sizeof__',\n",
       " '__str__',\n",
       " '__subclasshook__',\n",
       " 'clear',\n",
       " 'copy',\n",
       " 'fromkeys',\n",
       " 'get',\n",
       " 'items',\n",
       " 'keys',\n",
       " 'pop',\n",
       " 'popitem',\n",
       " 'setdefault',\n",
       " 'update',\n",
       " 'values']"
      ]
     },
     "execution_count": 11,
     "metadata": {},
     "output_type": "execute_result"
    }
   ],
   "source": [
    "dir(dict)"
   ]
  },
  {
   "cell_type": "code",
   "execution_count": 12,
   "metadata": {},
   "outputs": [],
   "source": [
    "d1 = d.copy()"
   ]
  },
  {
   "cell_type": "code",
   "execution_count": 13,
   "metadata": {},
   "outputs": [
    {
     "data": {
      "text/plain": [
       "{'id': 123,\n",
       " 'name': 'mastan',\n",
       " 'mobile': 1234567890,\n",
       " 'email': 'mastan@gmail.com'}"
      ]
     },
     "execution_count": 13,
     "metadata": {},
     "output_type": "execute_result"
    }
   ],
   "source": [
    "d1"
   ]
  },
  {
   "cell_type": "code",
   "execution_count": 14,
   "metadata": {},
   "outputs": [],
   "source": [
    "d2 = d"
   ]
  },
  {
   "cell_type": "code",
   "execution_count": 15,
   "metadata": {},
   "outputs": [
    {
     "data": {
      "text/plain": [
       "{'id': 123,\n",
       " 'name': 'mastan',\n",
       " 'mobile': 1234567890,\n",
       " 'email': 'mastan@gmail.com'}"
      ]
     },
     "execution_count": 15,
     "metadata": {},
     "output_type": "execute_result"
    }
   ],
   "source": [
    "d2"
   ]
  },
  {
   "cell_type": "code",
   "execution_count": 16,
   "metadata": {},
   "outputs": [
    {
     "data": {
      "text/plain": [
       "{'id': 123,\n",
       " 'name': 'mastan',\n",
       " 'mobile': 1234567890,\n",
       " 'email': 'mastan@gmail.com'}"
      ]
     },
     "execution_count": 16,
     "metadata": {},
     "output_type": "execute_result"
    }
   ],
   "source": [
    "d"
   ]
  },
  {
   "cell_type": "code",
   "execution_count": 19,
   "metadata": {},
   "outputs": [],
   "source": [
    "k = ('k1','k2','k3')\n",
    "v = (2,3)\n",
    "myd = dict.fromkeys(k,v)"
   ]
  },
  {
   "cell_type": "code",
   "execution_count": 20,
   "metadata": {},
   "outputs": [
    {
     "data": {
      "text/plain": [
       "{'k1': (2, 3), 'k2': (2, 3), 'k3': (2, 3)}"
      ]
     },
     "execution_count": 20,
     "metadata": {},
     "output_type": "execute_result"
    }
   ],
   "source": [
    "myd"
   ]
  },
  {
   "cell_type": "code",
   "execution_count": 26,
   "metadata": {},
   "outputs": [
    {
     "data": {
      "text/plain": [
       "12345672896"
      ]
     },
     "execution_count": 26,
     "metadata": {},
     "output_type": "execute_result"
    }
   ],
   "source": [
    "#Create static dictionary to store the multiple employee details.\n",
    "#ex: empd = {'id':['name','mobile',[email]] }\n",
    "empd = {123:['mastan',1234567890,'mastan@gmail.com'],\n",
    "        124:['Akhil',12345672896,'akhil@gmail.com']}\n",
    "\n",
    "\n",
    "empd[124][1]\n"
   ]
  },
  {
   "cell_type": "code",
   "execution_count": 27,
   "metadata": {},
   "outputs": [
    {
     "data": {
      "text/plain": [
       "{'id': 123,\n",
       " 'name': 'mastan',\n",
       " 'mobile': 1234567890,\n",
       " 'email': 'mastan@gmail.com'}"
      ]
     },
     "execution_count": 27,
     "metadata": {},
     "output_type": "execute_result"
    }
   ],
   "source": [
    "d"
   ]
  },
  {
   "cell_type": "code",
   "execution_count": 28,
   "metadata": {},
   "outputs": [
    {
     "data": {
      "text/plain": [
       "123"
      ]
     },
     "execution_count": 28,
     "metadata": {},
     "output_type": "execute_result"
    }
   ],
   "source": [
    "d.get('id')#or d['id']"
   ]
  },
  {
   "cell_type": "code",
   "execution_count": 29,
   "metadata": {},
   "outputs": [
    {
     "data": {
      "text/plain": [
       "{'id': 123,\n",
       " 'name': 'mastan',\n",
       " 'mobile': 1234567890,\n",
       " 'email': 'mastan@gmail.com'}"
      ]
     },
     "execution_count": 29,
     "metadata": {},
     "output_type": "execute_result"
    }
   ],
   "source": [
    "d"
   ]
  },
  {
   "cell_type": "code",
   "execution_count": 34,
   "metadata": {},
   "outputs": [
    {
     "data": {
      "text/plain": [
       "dict_items([('id', 123), ('name', 'mastan'), ('mobile', 1234567890), ('email', 'mastan@gmail.com')])"
      ]
     },
     "execution_count": 34,
     "metadata": {},
     "output_type": "execute_result"
    }
   ],
   "source": [
    "d.items()"
   ]
  },
  {
   "cell_type": "code",
   "execution_count": 35,
   "metadata": {},
   "outputs": [
    {
     "data": {
      "text/plain": [
       "{'id': 123,\n",
       " 'name': 'mastan',\n",
       " 'mobile': 1234567890,\n",
       " 'email': 'mastan@gmail.com'}"
      ]
     },
     "execution_count": 35,
     "metadata": {},
     "output_type": "execute_result"
    }
   ],
   "source": [
    "d"
   ]
  },
  {
   "cell_type": "code",
   "execution_count": 36,
   "metadata": {},
   "outputs": [
    {
     "data": {
      "text/plain": [
       "dict_keys(['id', 'name', 'mobile', 'email'])"
      ]
     },
     "execution_count": 36,
     "metadata": {},
     "output_type": "execute_result"
    }
   ],
   "source": [
    "d.keys()"
   ]
  },
  {
   "cell_type": "code",
   "execution_count": 37,
   "metadata": {},
   "outputs": [
    {
     "data": {
      "text/plain": [
       "dict_values([123, 'mastan', 1234567890, 'mastan@gmail.com'])"
      ]
     },
     "execution_count": 37,
     "metadata": {},
     "output_type": "execute_result"
    }
   ],
   "source": [
    "d.values()"
   ]
  },
  {
   "cell_type": "code",
   "execution_count": 38,
   "metadata": {},
   "outputs": [
    {
     "data": {
      "text/plain": [
       "{'id': 123,\n",
       " 'name': 'mastan',\n",
       " 'mobile': 1234567890,\n",
       " 'email': 'mastan@gmail.com'}"
      ]
     },
     "execution_count": 38,
     "metadata": {},
     "output_type": "execute_result"
    }
   ],
   "source": [
    "d"
   ]
  },
  {
   "cell_type": "code",
   "execution_count": 40,
   "metadata": {},
   "outputs": [
    {
     "data": {
      "text/plain": [
       "'mastan@gmail.com'"
      ]
     },
     "execution_count": 40,
     "metadata": {},
     "output_type": "execute_result"
    }
   ],
   "source": [
    "d.pop('email')"
   ]
  },
  {
   "cell_type": "code",
   "execution_count": 41,
   "metadata": {},
   "outputs": [
    {
     "data": {
      "text/plain": [
       "{'id': 123, 'name': 'mastan', 'mobile': 1234567890}"
      ]
     },
     "execution_count": 41,
     "metadata": {},
     "output_type": "execute_result"
    }
   ],
   "source": [
    "d"
   ]
  },
  {
   "cell_type": "code",
   "execution_count": 42,
   "metadata": {},
   "outputs": [
    {
     "data": {
      "text/plain": [
       "('mobile', 1234567890)"
      ]
     },
     "execution_count": 42,
     "metadata": {},
     "output_type": "execute_result"
    }
   ],
   "source": [
    "d.popitem()"
   ]
  },
  {
   "cell_type": "code",
   "execution_count": 43,
   "metadata": {},
   "outputs": [
    {
     "data": {
      "text/plain": [
       "{'id': 123, 'name': 'mastan'}"
      ]
     },
     "execution_count": 43,
     "metadata": {},
     "output_type": "execute_result"
    }
   ],
   "source": [
    "d"
   ]
  },
  {
   "cell_type": "code",
   "execution_count": 45,
   "metadata": {},
   "outputs": [
    {
     "data": {
      "text/plain": [
       "1234567890"
      ]
     },
     "execution_count": 45,
     "metadata": {},
     "output_type": "execute_result"
    }
   ],
   "source": [
    "d.setdefault(\"mobile\",1234567890)#d['key'] = value"
   ]
  },
  {
   "cell_type": "code",
   "execution_count": 46,
   "metadata": {},
   "outputs": [
    {
     "data": {
      "text/plain": [
       "{'id': 123, 'name': 'mastan', 'mobile': 1234567890}"
      ]
     },
     "execution_count": 46,
     "metadata": {},
     "output_type": "execute_result"
    }
   ],
   "source": [
    "d"
   ]
  },
  {
   "cell_type": "code",
   "execution_count": 47,
   "metadata": {},
   "outputs": [],
   "source": [
    "d['mobile'] = 90123456789"
   ]
  },
  {
   "cell_type": "code",
   "execution_count": 48,
   "metadata": {},
   "outputs": [
    {
     "data": {
      "text/plain": [
       "{'id': 123, 'name': 'mastan', 'mobile': 90123456789}"
      ]
     },
     "execution_count": 48,
     "metadata": {},
     "output_type": "execute_result"
    }
   ],
   "source": [
    "d"
   ]
  },
  {
   "cell_type": "code",
   "execution_count": 50,
   "metadata": {},
   "outputs": [],
   "source": [
    "d.update({'name':'raja'})"
   ]
  },
  {
   "cell_type": "code",
   "execution_count": 51,
   "metadata": {},
   "outputs": [
    {
     "data": {
      "text/plain": [
       "{'id': 123, 'name': 'raja', 'mobile': 90123456789}"
      ]
     },
     "execution_count": 51,
     "metadata": {},
     "output_type": "execute_result"
    }
   ],
   "source": [
    "d"
   ]
  },
  {
   "cell_type": "code",
   "execution_count": 52,
   "metadata": {},
   "outputs": [],
   "source": [
    "d.clear()"
   ]
  },
  {
   "cell_type": "code",
   "execution_count": 53,
   "metadata": {},
   "outputs": [
    {
     "data": {
      "text/plain": [
       "{}"
      ]
     },
     "execution_count": 53,
     "metadata": {},
     "output_type": "execute_result"
    }
   ],
   "source": [
    "d"
   ]
  },
  {
   "cell_type": "code",
   "execution_count": 54,
   "metadata": {},
   "outputs": [],
   "source": [
    "del d"
   ]
  },
  {
   "cell_type": "code",
   "execution_count": 55,
   "metadata": {},
   "outputs": [
    {
     "ename": "NameError",
     "evalue": "name 'd' is not defined",
     "output_type": "error",
     "traceback": [
      "\u001b[1;31m---------------------------------------------------------------------------\u001b[0m",
      "\u001b[1;31mNameError\u001b[0m                                 Traceback (most recent call last)",
      "\u001b[1;32m<ipython-input-55-e983f374794d>\u001b[0m in \u001b[0;36m<module>\u001b[1;34m\u001b[0m\n\u001b[1;32m----> 1\u001b[1;33m \u001b[0md\u001b[0m\u001b[1;33m\u001b[0m\u001b[1;33m\u001b[0m\u001b[0m\n\u001b[0m",
      "\u001b[1;31mNameError\u001b[0m: name 'd' is not defined"
     ]
    }
   ],
   "source": [
    "d"
   ]
  },
  {
   "cell_type": "code",
   "execution_count": 57,
   "metadata": {},
   "outputs": [
    {
     "name": "stdout",
     "output_type": "stream",
     "text": [
      "Enter a keyid\n",
      "Enter a value 123\n",
      "Enter a keyname\n",
      "Enter a value mastan\n",
      "Enter a keymobile\n",
      "Enter a value 1234567890\n",
      "Enter a keyemail\n",
      "Enter a value mastan@gmail.com\n",
      "{'id': '123', 'name': 'mastan', 'mobile': '1234567890', 'email': 'mastan@gmail.com'}\n"
     ]
    }
   ],
   "source": [
    "#Dynamic creation of dictionary\n",
    "d = {}\n",
    "for i in range(4):\n",
    "    key = input(\"Enter a key\")\n",
    "    value = input(\"Enter a value \")\n",
    "    d[key] = value\n",
    "print(d)"
   ]
  },
  {
   "cell_type": "code",
   "execution_count": 58,
   "metadata": {},
   "outputs": [],
   "source": [
    "#Assinments\n",
    "#repeat the loop 10 times then we will get 0,1...9 numbers, for these \n",
    "#    numbers generate a square value and then store thesse values in \n",
    "#  dictionary\n",
    "# Ex: {1:1,2:4,3:9,4:16.......}\n",
    "\n",
    "\n",
    "#List = [10,30,50,10,50,30,80,60,80,60] for this list create dictionary \n",
    "#   with keys as a list element and value as elemnt number of occurances\n",
    "#   in the list.\n",
    "# Ex: {10:2,30:2,50:2,80:2,60:2}\n",
    "\n",
    "\n",
    "#'pythonprogramming' by using this string create dictonary with keys as\n",
    "# a single character and values as number occurances of that charcter.\n",
    "#Ex:{p:2,y:1,t:1,h:1............}\n",
    "\n",
    "\n"
   ]
  },
  {
   "cell_type": "code",
   "execution_count": 60,
   "metadata": {},
   "outputs": [
    {
     "name": "stdout",
     "output_type": "stream",
     "text": [
      "{10: 2, 30: 2, 50: 2, 80: 2, 60: 2}\n"
     ]
    }
   ],
   "source": [
    "#List = [10,30,50,10,50,30,80,60,80,60] for this list create dictionary \n",
    "#   with keys as a list element and value as elemnt number of occurances\n",
    "#   in the list.\n",
    "# Ex: {10:2,30:2,50:2,80:2,60:2}\n",
    "d = {}\n",
    "l = [10,30,50,10,50,30,80,60,80,60]\n",
    "for element in l:\n",
    "    d[element] = l.count(element)\n",
    "print(d)\n",
    "\n",
    "\n"
   ]
  },
  {
   "cell_type": "code",
   "execution_count": 63,
   "metadata": {},
   "outputs": [
    {
     "name": "stdout",
     "output_type": "stream",
     "text": [
      "{'p': 2, 'y': 1, 't': 1, 'h': 1, 'o': 2, 'n': 2, 'r': 2, 'g': 2, 'a': 1, 'm': 2, 'i': 1}\n"
     ]
    }
   ],
   "source": [
    "s = 'pythonprogramming'\n",
    "sd = {}\n",
    "for ch in s:\n",
    "    sd[ch] = s.count(ch)\n",
    "print(sd)"
   ]
  },
  {
   "cell_type": "code",
   "execution_count": 69,
   "metadata": {},
   "outputs": [
    {
     "name": "stdout",
     "output_type": "stream",
     "text": [
      "3\n",
      "Highesst freq value is :  10\n"
     ]
    }
   ],
   "source": [
    "# l = [10,50,90,70,10,40,50,10,30,70,90] for this list generate dictionary \n",
    "# with keys as a list element and value as number occurnaces of that \n",
    "# element, in this print highest frequency value in the given list\n",
    "# Ex:d = {10:3,50:2,90:2,70:2,40:1,30:1}\n",
    "#  Highest Freq value = 10 \n",
    "l = [10,50,90,70,10,40,50,10,30,70,90]\n",
    "d = {}\n",
    "for i in l:\n",
    "    d[i] = l.count(i)\n",
    "values = d.values()\n",
    "#print(values)\n",
    "maxvalue = max(values)\n",
    "print(maxvalue)\n",
    "items = d.items()\n",
    "#print(items)\n",
    "#print(d)\n",
    "for item in items:\n",
    "    if item[1] == maxvalue:\n",
    "        print(\"Highesst freq value is : \",item[0])"
   ]
  },
  {
   "cell_type": "markdown",
   "metadata": {},
   "source": [
    "### Regular Expressions\n",
    "- By using regular expresions we can perform validations\n",
    "    like finding specific patterns from a sequence of text\n",
    "- To perform validations we have two different ways:\n",
    "            1.Client side validation\n",
    "                - It can be performed by using javascript\n",
    "            2.Server side validation\n",
    "             - to perform server side validations by using python have to 're' module\n",
    "        "
   ]
  },
  {
   "cell_type": "code",
   "execution_count": 70,
   "metadata": {},
   "outputs": [],
   "source": [
    "\n",
    "\n",
    "# It is used to seqence of characters forms that a pattern\n",
    "# For form validations we can use the regular expressions\n",
    "# If you want to work with regular expressions We need to import re\n",
    "# Syntax: re.method_name(\"Pattern\",\"data or string \")\n",
    "#Methods in re\n",
    "#     - match()\n",
    "#     - findAll()\n",
    "#     - search()"
   ]
  },
  {
   "cell_type": "code",
   "execution_count": 77,
   "metadata": {},
   "outputs": [],
   "source": [
    "import re "
   ]
  },
  {
   "cell_type": "code",
   "execution_count": 82,
   "metadata": {},
   "outputs": [],
   "source": [
    "re.match(\"p\",\"apssdc\")"
   ]
  },
  {
   "cell_type": "code",
   "execution_count": 87,
   "metadata": {},
   "outputs": [
    {
     "data": {
      "text/plain": [
       "<re.Match object; span=(2, 3), match='t'>"
      ]
     },
     "execution_count": 87,
     "metadata": {},
     "output_type": "execute_result"
    }
   ],
   "source": [
    "re.search(\"t\",\"pythont\")"
   ]
  },
  {
   "cell_type": "code",
   "execution_count": 88,
   "metadata": {},
   "outputs": [
    {
     "data": {
      "text/plain": [
       "['o', 'o', 'o']"
      ]
     },
     "execution_count": 88,
     "metadata": {},
     "output_type": "execute_result"
    }
   ],
   "source": [
    "re.findall(\"o\",\"opython programming\")"
   ]
  },
  {
   "cell_type": "code",
   "execution_count": 89,
   "metadata": {},
   "outputs": [
    {
     "data": {
      "text/plain": [
       "<re.Match object; span=(0, 1), match='p'>"
      ]
     },
     "execution_count": 89,
     "metadata": {},
     "output_type": "execute_result"
    }
   ],
   "source": [
    "re.search(\"^p\",\"python\")"
   ]
  },
  {
   "cell_type": "code",
   "execution_count": 91,
   "metadata": {},
   "outputs": [
    {
     "data": {
      "text/plain": [
       "<re.Match object; span=(5, 6), match='n'>"
      ]
     },
     "execution_count": 91,
     "metadata": {},
     "output_type": "execute_result"
    }
   ],
   "source": [
    "re.search(\"n$\",\"python\")"
   ]
  },
  {
   "cell_type": "code",
   "execution_count": 92,
   "metadata": {},
   "outputs": [],
   "source": [
    "re.search(\"^pn$\",\"python\")"
   ]
  },
  {
   "cell_type": "code",
   "execution_count": 96,
   "metadata": {},
   "outputs": [
    {
     "data": {
      "text/plain": [
       "<re.Match object; span=(0, 6), match='p2564n'>"
      ]
     },
     "execution_count": 96,
     "metadata": {},
     "output_type": "execute_result"
    }
   ],
   "source": [
    "re.search(\"^p....n$\",\"p2564n\")"
   ]
  },
  {
   "cell_type": "code",
   "execution_count": 97,
   "metadata": {},
   "outputs": [
    {
     "data": {
      "text/plain": [
       "<re.Match object; span=(0, 1), match='p'>"
      ]
     },
     "execution_count": 97,
     "metadata": {},
     "output_type": "execute_result"
    }
   ],
   "source": [
    "re.search(\"^p\",\"python\")"
   ]
  },
  {
   "cell_type": "code",
   "execution_count": 98,
   "metadata": {},
   "outputs": [
    {
     "name": "stdout",
     "output_type": "stream",
     "text": [
      "python\n",
      "pegion\n"
     ]
    }
   ],
   "source": [
    "li = ['python','pavan','pavani','pn','pan','pegion']\n",
    "\n",
    "for i in li:\n",
    "    if re.search('^p....n$',i):\n",
    "        print(i)\n"
   ]
  },
  {
   "cell_type": "code",
   "execution_count": 99,
   "metadata": {},
   "outputs": [
    {
     "name": "stdout",
     "output_type": "stream",
     "text": [
      "python\n",
      "pavan\n",
      "pan\n",
      "pegion\n"
     ]
    }
   ],
   "source": [
    "li = ['python','pavan','pavani','pn','pan','pegion','mastan','vali']\n",
    "\n",
    "for i in li:\n",
    "    if re.search('^p.+n$',i):\n",
    "        print(i)\n"
   ]
  },
  {
   "cell_type": "code",
   "execution_count": 101,
   "metadata": {},
   "outputs": [
    {
     "name": "stdout",
     "output_type": "stream",
     "text": [
      "python\n",
      "pavan\n",
      "pn\n",
      "pan\n",
      "pegion\n",
      "p45n\n"
     ]
    }
   ],
   "source": [
    "li = ['python','pavan','pavani','pn','pan','pegion','mastan','vali','p45n']\n",
    "\n",
    "for i in li:\n",
    "    if re.search('^p.*n$',i):\n",
    "        print(i)\n"
   ]
  },
  {
   "cell_type": "code",
   "execution_count": 102,
   "metadata": {},
   "outputs": [
    {
     "name": "stdout",
     "output_type": "stream",
     "text": [
      "python\n",
      "pavan\n",
      "pn\n",
      "pan\n",
      "pegion\n"
     ]
    }
   ],
   "source": [
    "li = ['python','pavan','pavani','pn','pan','pegion','mastan','vali','p45n']\n",
    "\n",
    "for i in li:\n",
    "    if re.search('^p[a-z]*n$',i):\n",
    "        print(i)\n"
   ]
  },
  {
   "cell_type": "code",
   "execution_count": 109,
   "metadata": {},
   "outputs": [
    {
     "name": "stdout",
     "output_type": "stream",
     "text": [
      "python\n",
      "RAJA\n",
      "pavan\n",
      "pavani\n",
      "pn\n",
      "pan\n",
      "pegion\n",
      "mastan\n",
      "vali\n"
     ]
    }
   ],
   "source": [
    "li = ['python','RAJA','pavan','511','pavani','458','pn','pan','501','pegion','mastan','vali','p45n']\n",
    "\n",
    "for i in li:\n",
    "    if re.search('^[A-Za-z]*[A-Za-z]$',i):\n",
    "        print(i)\n"
   ]
  },
  {
   "cell_type": "code",
   "execution_count": 110,
   "metadata": {},
   "outputs": [
    {
     "name": "stdout",
     "output_type": "stream",
     "text": [
      "6789\n"
     ]
    }
   ],
   "source": [
    "nums = [\"12345\",'568943','458796213','6789']\n",
    "for num in nums:\n",
    "    if re.search(\"^[6-9][0-9]\",num):\n",
    "        print(num)\n",
    "    "
   ]
  },
  {
   "cell_type": "code",
   "execution_count": 116,
   "metadata": {},
   "outputs": [
    {
     "name": "stdout",
     "output_type": "stream",
     "text": [
      "9676123935\n",
      "9949559542\n"
     ]
    }
   ],
   "source": [
    "nums = [\"12345\",'568943','458796213','6789','9676123935','9949559542','87',\n",
    "        '78965762731']\n",
    "for num in nums:\n",
    "    if re.search(\"^[6-9][0-9]{9}$\",num):\n",
    "        print(num)\n",
    "    "
   ]
  },
  {
   "cell_type": "code",
   "execution_count": 142,
   "metadata": {},
   "outputs": [
    {
     "name": "stdout",
     "output_type": "stream",
     "text": [
      "abc.cd@gmail.com\n",
      "1234567890@gmail.com\n",
      "abc cd@gmail.com\n"
     ]
    }
   ],
   "source": [
    "#Email validation\n",
    "li = ['abc@gmaail.com','abc@gmail.com','abc.cd@gmail.com',\n",
    "      '1234567890@gmail.com','mastan@apssdc.in','abc cd@gmail.com']\n",
    "\n",
    "for email in li:\n",
    "    if re.search('^[A-Za-z0-9]+\\S.[A-Za-z0-9]+@gmail.com$',email):\n",
    "        print(email)"
   ]
  },
  {
   "cell_type": "code",
   "execution_count": null,
   "metadata": {},
   "outputs": [],
   "source": []
  }
 ],
 "metadata": {
  "kernelspec": {
   "display_name": "Python 3",
   "language": "python",
   "name": "python3"
  },
  "language_info": {
   "codemirror_mode": {
    "name": "ipython",
    "version": 3
   },
   "file_extension": ".py",
   "mimetype": "text/x-python",
   "name": "python",
   "nbconvert_exporter": "python",
   "pygments_lexer": "ipython3",
   "version": "3.7.3"
  }
 },
 "nbformat": 4,
 "nbformat_minor": 2
}
