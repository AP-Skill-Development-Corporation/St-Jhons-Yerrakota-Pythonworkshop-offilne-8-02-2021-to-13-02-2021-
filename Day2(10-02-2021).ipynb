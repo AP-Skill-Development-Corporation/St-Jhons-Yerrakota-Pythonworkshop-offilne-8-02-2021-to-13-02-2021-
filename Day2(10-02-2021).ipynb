{
 "cells": [
  {
   "cell_type": "markdown",
   "id": "physical-nebraska",
   "metadata": {},
   "source": [
    "## Practice Work\n",
    "    - print numbers in reverse order using for loop\n",
    "    - biggest on 2 nums\n",
    "    - big of 3 nums\n",
    "    - find given num is even or not\n",
    "    - print nums in between range\n",
    "    - print evens in between range\n",
    "    - find given year is leap year or not\n",
    "    - write logic to generate math table\n",
    "    - write a logic to generate math tables in given range"
   ]
  },
  {
   "cell_type": "code",
   "execution_count": 3,
   "id": "pediatric-repository",
   "metadata": {},
   "outputs": [
    {
     "name": "stdout",
     "output_type": "stream",
     "text": [
      "Enter val in between 1 to 73\n",
      "tuesaday\n"
     ]
    }
   ],
   "source": [
    "# week of the day\n",
    "#\"1\",\"2\",\"3\",\"4\",\"5\",\"6\",\"7\"=\"sunday\",\"monday\",\"tuesday\",'wednesday','thursday','frieday','saturday'\n",
    "day = input(\"Enter val in between 1 to 7\")\n",
    "if day==\"1\":\n",
    "    print(\"sunday\")\n",
    "elif(day==\"2\"):\n",
    "    print(\"Monday\")\n",
    "elif(day==\"3\"):\n",
    "    print(\"tuesaday\")\n",
    "elif(day==\"4\"):\n",
    "    print(\"wednesady\")\n",
    "\n",
    "else:\n",
    "    print(\"ur entered wrong choce\")"
   ]
  },
  {
   "cell_type": "code",
   "execution_count": 4,
   "id": "substantial-footage",
   "metadata": {},
   "outputs": [
    {
     "name": "stdout",
     "output_type": "stream",
     "text": [
      "5\n",
      "10\n",
      "5 6 7 8 9 10 "
     ]
    }
   ],
   "source": [
    "# print nums in between range\n",
    "start  = int(input())\n",
    "end = int(input())\n",
    "for i in range(start, end+1):\n",
    "    print(i,end = ' ')"
   ]
  },
  {
   "cell_type": "code",
   "execution_count": 9,
   "id": "placed-coordination",
   "metadata": {},
   "outputs": [
    {
     "name": "stdout",
     "output_type": "stream",
     "text": [
      "1\n",
      "50\n",
      "2,4,6,8,10,12,14,16,18,20,22,24,26,28,30,32,34,36,38,40,42,44,46,48,50,count= 25\n"
     ]
    }
   ],
   "source": [
    "# print evens in between range\n",
    "start = int(input())\n",
    "end = int(input())\n",
    "count = 0\n",
    "for i in range(start, end+1):\n",
    "    if i%2==0:\n",
    "        print(i, end =\",\")\n",
    "        count += 1\n",
    "print(\"count=\",count)"
   ]
  },
  {
   "cell_type": "code",
   "execution_count": 12,
   "id": "polish-colleague",
   "metadata": {},
   "outputs": [
    {
     "name": "stdout",
     "output_type": "stream",
     "text": [
      "2\n",
      "2 * 1 = 2\n",
      "2 * 2 = 4\n",
      "2 * 3 = 6\n",
      "2 * 4 = 8\n",
      "2 * 5 = 10\n",
      "2 * 6 = 12\n",
      "2 * 7 = 14\n",
      "2 * 8 = 16\n",
      "2 * 9 = 18\n",
      "2 * 10 = 20\n",
      "2 * 11 = 22\n",
      "2 * 12 = 24\n",
      "2 * 13 = 26\n",
      "2 * 14 = 28\n",
      "2 * 15 = 30\n",
      "2 * 16 = 32\n",
      "2 * 17 = 34\n",
      "2 * 18 = 36\n",
      "2 * 19 = 38\n",
      "2 * 20 = 40\n"
     ]
    }
   ],
   "source": [
    "# write logic to generate math table for given num\n",
    "n = int(input())\n",
    "for i in range(1,21):\n",
    "    print(n,\"*\",i,\"=\",n*i)"
   ]
  },
  {
   "cell_type": "code",
   "execution_count": 13,
   "id": "separate-classic",
   "metadata": {},
   "outputs": [
    {
     "name": "stdout",
     "output_type": "stream",
     "text": [
      "0 1 2 3 4 5 6 7 8 9 10 "
     ]
    }
   ],
   "source": [
    "i = 0\n",
    "while(i<=10):\n",
    "    print(i,end=\" \")\n",
    "    i += 1\n"
   ]
  },
  {
   "cell_type": "markdown",
   "id": "informal-broadway",
   "metadata": {},
   "source": [
    "### Jump statements\n",
    "    - break\n",
    "    - continue"
   ]
  },
  {
   "cell_type": "code",
   "execution_count": 19,
   "id": "southern-corruption",
   "metadata": {},
   "outputs": [
    {
     "name": "stdout",
     "output_type": "stream",
     "text": [
      "1,2,3,4,5,6,7,8,9,10,11,12,13,14,15,16,17,18,19,20,21,22,23,24,25,26,27,28,29,30,31,32,33,34,35,36,37,38,39,40,41,42,43,44,45,46,47,48,49,"
     ]
    }
   ],
   "source": [
    "for i in range(1,100):\n",
    "    if i == 50:\n",
    "        break\n",
    "    print(i,end=\",\")"
   ]
  },
  {
   "cell_type": "code",
   "execution_count": 21,
   "id": "southwest-bridge",
   "metadata": {},
   "outputs": [
    {
     "name": "stdout",
     "output_type": "stream",
     "text": [
      "1 2 3 4 6 7 8 9 11 12 13 14 16 17 18 19 21 22 23 24 26 27 28 29 31 32 33 34 36 37 38 39 41 42 43 44 46 47 48 49 51 52 53 54 56 57 58 59 61 62 63 64 66 67 68 69 71 72 73 74 76 77 78 79 81 82 83 84 86 87 88 89 91 92 93 94 96 97 98 99 "
     ]
    }
   ],
   "source": [
    "for i in range(1,100):\n",
    "    if i%5==0:\n",
    "        continue\n",
    "    print(i,end=\" \")"
   ]
  },
  {
   "cell_type": "markdown",
   "id": "residential-tamil",
   "metadata": {},
   "source": [
    "## Functions\n",
    "    - set of statements\n",
    "    - we can perform specific task\n",
    "    - reusability is the main moto\n",
    "    - pessing args and then return result\n",
    "    - to define function we will use 'def'\n",
    "    - Syntax:\n",
    "        ''' def fun_name():\n",
    "            # body of teh fun\n",
    "                retutn'''\n",
    "### types of function\n",
    "        - default functions\n",
    "            - pow()\n",
    "            - range()\n",
    "            - input()\n",
    "            - int()\n",
    "            - type()\n",
    "            - float()\n",
    "            - str()\n",
    "            - print()\n",
    "        - userdefined functions:\n",
    "            - user can define his own functions\n",
    "            - for this we have 4 diff ways:\n",
    "                - no args and no return\n",
    "                - no args and with return\n",
    "                - with args and no return\n",
    "                - with args and with return\n"
   ]
  },
  {
   "cell_type": "markdown",
   "id": "physical-arctic",
   "metadata": {},
   "source": [
    "## no args and no return"
   ]
  },
  {
   "cell_type": "code",
   "execution_count": 26,
   "id": "basic-piano",
   "metadata": {},
   "outputs": [],
   "source": [
    "def myfun():\n",
    "    print(\"i am belongs to no args and no return\")"
   ]
  },
  {
   "cell_type": "code",
   "execution_count": 27,
   "id": "verbal-harvard",
   "metadata": {},
   "outputs": [
    {
     "name": "stdout",
     "output_type": "stream",
     "text": [
      "i am belongs to no args and no return\n"
     ]
    }
   ],
   "source": [
    "myfun()"
   ]
  },
  {
   "cell_type": "markdown",
   "id": "forbidden-harvard",
   "metadata": {},
   "source": [
    "## 2 no args and with return"
   ]
  },
  {
   "cell_type": "code",
   "execution_count": 28,
   "id": "occasional-lexington",
   "metadata": {},
   "outputs": [],
   "source": [
    "def myfun2():\n",
    "    return \"i am belongs to 'no args and with return'\""
   ]
  },
  {
   "cell_type": "code",
   "execution_count": 29,
   "id": "structured-breeding",
   "metadata": {},
   "outputs": [
    {
     "name": "stdout",
     "output_type": "stream",
     "text": [
      "i am belongs to 'no args and with return'\n"
     ]
    }
   ],
   "source": [
    "rs = myfun2() # print(myfun2())\n",
    "print(rs)"
   ]
  },
  {
   "cell_type": "code",
   "execution_count": 32,
   "id": "turned-bobby",
   "metadata": {},
   "outputs": [
    {
     "name": "stdout",
     "output_type": "stream",
     "text": [
      "11\n"
     ]
    }
   ],
   "source": [
    "def add():\n",
    "    return 5+6\n",
    "rs = add()\n",
    "print(rs)"
   ]
  },
  {
   "cell_type": "markdown",
   "id": "fancy-paris",
   "metadata": {},
   "source": [
    "## 3. with args and no return"
   ]
  },
  {
   "cell_type": "code",
   "execution_count": 33,
   "id": "optical-brief",
   "metadata": {},
   "outputs": [],
   "source": [
    "def add(n1, n2):\n",
    "    print(n1+n2)"
   ]
  },
  {
   "cell_type": "code",
   "execution_count": 34,
   "id": "sunrise-education",
   "metadata": {},
   "outputs": [
    {
     "name": "stdout",
     "output_type": "stream",
     "text": [
      "15\n"
     ]
    }
   ],
   "source": [
    "val1, val2 = 12,18\n",
    "add(val1, val2)"
   ]
  },
  {
   "cell_type": "markdown",
   "id": "variable-annual",
   "metadata": {},
   "source": [
    "### 4. with args and with return"
   ]
  },
  {
   "cell_type": "code",
   "execution_count": 35,
   "id": "royal-julian",
   "metadata": {},
   "outputs": [],
   "source": [
    "def mul(val1, val2):\n",
    "    return val1 * val2"
   ]
  },
  {
   "cell_type": "code",
   "execution_count": 39,
   "id": "retained-brave",
   "metadata": {},
   "outputs": [
    {
     "name": "stdout",
     "output_type": "stream",
     "text": [
      "mul =  25\n"
     ]
    }
   ],
   "source": [
    "rs = mul(5,5)\n",
    "#print(rs)\n",
    "print(\"mul = \",rs)\n",
    "#print(\"mul = \",mulk(4,3))"
   ]
  },
  {
   "cell_type": "markdown",
   "id": "supreme-tumor",
   "metadata": {},
   "source": [
    "### Practice work\n",
    "    - define function to find givennumm is even or not\n",
    "    - define function to find givben num is leap year or not"
   ]
  },
  {
   "cell_type": "code",
   "execution_count": 41,
   "id": "confidential-passing",
   "metadata": {},
   "outputs": [],
   "source": [
    "# define function to find givennumm is even or not\n",
    "def isEven(num):\n",
    "    if num%2==0:\n",
    "        return True\n",
    "    return False\n",
    "# define function to find givben num is leap year or not\n",
    "def isLeapYear(year):\n",
    "    if year%4==0:\n",
    "        return True\n",
    "    return False"
   ]
  },
  {
   "cell_type": "code",
   "execution_count": 42,
   "id": "temporal-quantity",
   "metadata": {},
   "outputs": [
    {
     "data": {
      "text/plain": [
       "False"
      ]
     },
     "execution_count": 42,
     "metadata": {},
     "output_type": "execute_result"
    }
   ],
   "source": [
    "isEven(5)"
   ]
  },
  {
   "cell_type": "code",
   "execution_count": 43,
   "id": "intelligent-residence",
   "metadata": {},
   "outputs": [
    {
     "data": {
      "text/plain": [
       "False"
      ]
     },
     "execution_count": 43,
     "metadata": {},
     "output_type": "execute_result"
    }
   ],
   "source": [
    "isLeapYear(1999)"
   ]
  },
  {
   "cell_type": "code",
   "execution_count": 46,
   "id": "faced-connecticut",
   "metadata": {},
   "outputs": [
    {
     "name": "stdout",
     "output_type": "stream",
     "text": [
      "17\n"
     ]
    },
    {
     "data": {
      "text/plain": [
       "True"
      ]
     },
     "execution_count": 46,
     "metadata": {},
     "output_type": "execute_result"
    }
   ],
   "source": [
    "def isPrime(num):\n",
    "    for i in range(2,num):\n",
    "        if num%i==0:\n",
    "            return False\n",
    "    return True\n",
    "n = int(input())\n",
    "isPrime(n)"
   ]
  },
  {
   "cell_type": "markdown",
   "id": "aquatic-armstrong",
   "metadata": {},
   "source": [
    "## Strings\n",
    "    - group of chars\n",
    "    - To define a multi line string need to start ''' then ends with  ''' or else starts with \"\"\" ends with \"\"\"\n",
    "    "
   ]
  },
  {
   "cell_type": "code",
   "execution_count": 47,
   "id": "loaded-jenny",
   "metadata": {},
   "outputs": [],
   "source": [
    "s = \"APSSDC\"\n",
    "sta = 'python workshop'\n",
    "txt = '''Welcome to Python Programming workshop\n",
    "which was organized \n",
    "by APSSDC and CSE dept'''"
   ]
  },
  {
   "cell_type": "markdown",
   "id": "baking-paris",
   "metadata": {},
   "source": [
    "### Accessing Sting characters\n",
    " - for Accessing string characters we have two different ways \n",
    "          1. Forward indexing\n",
    "              - Index position starting from zero\n",
    "                 then ending position is length of the string\n",
    "          2. backward indexing\n",
    "              - backward indexing starts from -1 ending value \n",
    "              is -(len(s))"
   ]
  },
  {
   "cell_type": "code",
   "execution_count": 49,
   "id": "focused-lottery",
   "metadata": {},
   "outputs": [
    {
     "data": {
      "text/plain": [
       "'APSSDC'"
      ]
     },
     "execution_count": 49,
     "metadata": {},
     "output_type": "execute_result"
    }
   ],
   "source": [
    "s"
   ]
  },
  {
   "cell_type": "code",
   "execution_count": 50,
   "id": "altered-banks",
   "metadata": {},
   "outputs": [
    {
     "data": {
      "text/plain": [
       "'A'"
      ]
     },
     "execution_count": 50,
     "metadata": {},
     "output_type": "execute_result"
    }
   ],
   "source": [
    "s[0]"
   ]
  },
  {
   "cell_type": "code",
   "execution_count": 52,
   "id": "exotic-yacht",
   "metadata": {},
   "outputs": [
    {
     "data": {
      "text/plain": [
       "'S'"
      ]
     },
     "execution_count": 52,
     "metadata": {},
     "output_type": "execute_result"
    }
   ],
   "source": [
    "s[3]"
   ]
  },
  {
   "cell_type": "code",
   "execution_count": 53,
   "id": "closed-ladder",
   "metadata": {},
   "outputs": [
    {
     "data": {
      "text/plain": [
       "6"
      ]
     },
     "execution_count": 53,
     "metadata": {},
     "output_type": "execute_result"
    }
   ],
   "source": [
    "len(s)"
   ]
  },
  {
   "cell_type": "code",
   "execution_count": 54,
   "id": "identified-visiting",
   "metadata": {},
   "outputs": [
    {
     "data": {
      "text/plain": [
       "'C'"
      ]
     },
     "execution_count": 54,
     "metadata": {},
     "output_type": "execute_result"
    }
   ],
   "source": [
    "s[-1]"
   ]
  },
  {
   "cell_type": "code",
   "execution_count": 55,
   "id": "chubby-confirmation",
   "metadata": {},
   "outputs": [
    {
     "data": {
      "text/plain": [
       "'APSSDC'"
      ]
     },
     "execution_count": 55,
     "metadata": {},
     "output_type": "execute_result"
    }
   ],
   "source": [
    "s"
   ]
  },
  {
   "cell_type": "code",
   "execution_count": 56,
   "id": "proper-parallel",
   "metadata": {},
   "outputs": [
    {
     "data": {
      "text/plain": [
       "'D'"
      ]
     },
     "execution_count": 56,
     "metadata": {},
     "output_type": "execute_result"
    }
   ],
   "source": [
    "s[-2]"
   ]
  },
  {
   "cell_type": "code",
   "execution_count": 57,
   "id": "historical-remark",
   "metadata": {},
   "outputs": [
    {
     "data": {
      "text/plain": [
       "'A'"
      ]
     },
     "execution_count": 57,
     "metadata": {},
     "output_type": "execute_result"
    }
   ],
   "source": [
    "s[-6]"
   ]
  },
  {
   "cell_type": "code",
   "execution_count": 58,
   "id": "marked-norfolk",
   "metadata": {},
   "outputs": [
    {
     "data": {
      "text/plain": [
       "'C'"
      ]
     },
     "execution_count": 58,
     "metadata": {},
     "output_type": "execute_result"
    }
   ],
   "source": [
    "s[5]"
   ]
  },
  {
   "cell_type": "markdown",
   "id": "painful-danish",
   "metadata": {},
   "source": [
    "### String slicing\n",
    "    - for slicing we will use : operator\n",
    "    - By using slicing we will get sub string\n",
    "    "
   ]
  },
  {
   "cell_type": "code",
   "execution_count": 59,
   "id": "noted-girlfriend",
   "metadata": {},
   "outputs": [
    {
     "data": {
      "text/plain": [
       "'python workshop'"
      ]
     },
     "execution_count": 59,
     "metadata": {},
     "output_type": "execute_result"
    }
   ],
   "source": [
    "sta"
   ]
  },
  {
   "cell_type": "code",
   "execution_count": 60,
   "id": "reflected-maker",
   "metadata": {},
   "outputs": [
    {
     "data": {
      "text/plain": [
       "'python workshop'"
      ]
     },
     "execution_count": 60,
     "metadata": {},
     "output_type": "execute_result"
    }
   ],
   "source": [
    "sta[:]"
   ]
  },
  {
   "cell_type": "code",
   "execution_count": 61,
   "id": "current-timber",
   "metadata": {},
   "outputs": [
    {
     "data": {
      "text/plain": [
       "'python'"
      ]
     },
     "execution_count": 61,
     "metadata": {},
     "output_type": "execute_result"
    }
   ],
   "source": [
    "sta[:6]"
   ]
  },
  {
   "cell_type": "code",
   "execution_count": 62,
   "id": "subsequent-french",
   "metadata": {},
   "outputs": [
    {
     "data": {
      "text/plain": [
       "'workshop'"
      ]
     },
     "execution_count": 62,
     "metadata": {},
     "output_type": "execute_result"
    }
   ],
   "source": [
    "sta[7:]"
   ]
  },
  {
   "cell_type": "code",
   "execution_count": 63,
   "id": "natural-european",
   "metadata": {},
   "outputs": [
    {
     "data": {
      "text/plain": [
       "'pto okhp'"
      ]
     },
     "execution_count": 63,
     "metadata": {},
     "output_type": "execute_result"
    }
   ],
   "source": [
    "sta[::2]"
   ]
  },
  {
   "cell_type": "code",
   "execution_count": 64,
   "id": "taken-dictionary",
   "metadata": {},
   "outputs": [
    {
     "data": {
      "text/plain": [
       "'python workshop'"
      ]
     },
     "execution_count": 64,
     "metadata": {},
     "output_type": "execute_result"
    }
   ],
   "source": [
    "sta"
   ]
  },
  {
   "cell_type": "code",
   "execution_count": 65,
   "id": "foster-agency",
   "metadata": {},
   "outputs": [
    {
     "data": {
      "text/plain": [
       "'ph rh'"
      ]
     },
     "execution_count": 65,
     "metadata": {},
     "output_type": "execute_result"
    }
   ],
   "source": [
    "sta[::3]"
   ]
  },
  {
   "cell_type": "code",
   "execution_count": 66,
   "id": "generous-monroe",
   "metadata": {},
   "outputs": [
    {
     "data": {
      "text/plain": [
       "'yhnwrso'"
      ]
     },
     "execution_count": 66,
     "metadata": {},
     "output_type": "execute_result"
    }
   ],
   "source": [
    "sta[1::2]"
   ]
  },
  {
   "cell_type": "code",
   "execution_count": 67,
   "id": "daily-uzbekistan",
   "metadata": {},
   "outputs": [
    {
     "data": {
      "text/plain": [
       "'python workshop'"
      ]
     },
     "execution_count": 67,
     "metadata": {},
     "output_type": "execute_result"
    }
   ],
   "source": [
    "sta"
   ]
  },
  {
   "cell_type": "code",
   "execution_count": 68,
   "id": "operating-might",
   "metadata": {},
   "outputs": [
    {
     "data": {
      "text/plain": [
       "'p'"
      ]
     },
     "execution_count": 68,
     "metadata": {},
     "output_type": "execute_result"
    }
   ],
   "source": [
    "sta[-1:]"
   ]
  },
  {
   "cell_type": "code",
   "execution_count": 69,
   "id": "peaceful-baptist",
   "metadata": {},
   "outputs": [
    {
     "data": {
      "text/plain": [
       "'kshop'"
      ]
     },
     "execution_count": 69,
     "metadata": {},
     "output_type": "execute_result"
    }
   ],
   "source": [
    "sta[-5:]"
   ]
  },
  {
   "cell_type": "code",
   "execution_count": 70,
   "id": "early-liberty",
   "metadata": {},
   "outputs": [
    {
     "data": {
      "text/plain": [
       "'python workshop'"
      ]
     },
     "execution_count": 70,
     "metadata": {},
     "output_type": "execute_result"
    }
   ],
   "source": [
    "sta"
   ]
  },
  {
   "cell_type": "code",
   "execution_count": 71,
   "id": "improved-maria",
   "metadata": {},
   "outputs": [
    {
     "data": {
      "text/plain": [
       "'python workshop'"
      ]
     },
     "execution_count": 71,
     "metadata": {},
     "output_type": "execute_result"
    }
   ],
   "source": [
    "sta[-len(sta):]"
   ]
  },
  {
   "cell_type": "code",
   "execution_count": 72,
   "id": "surgical-switzerland",
   "metadata": {},
   "outputs": [
    {
     "data": {
      "text/plain": [
       "15"
      ]
     },
     "execution_count": 72,
     "metadata": {},
     "output_type": "execute_result"
    }
   ],
   "source": [
    "len(sta)"
   ]
  },
  {
   "cell_type": "code",
   "execution_count": 73,
   "id": "fuzzy-startup",
   "metadata": {},
   "outputs": [
    {
     "data": {
      "text/plain": [
       "'pohskrow nohtyp'"
      ]
     },
     "execution_count": 73,
     "metadata": {},
     "output_type": "execute_result"
    }
   ],
   "source": [
    "sta[::-1]"
   ]
  },
  {
   "cell_type": "markdown",
   "id": "understanding-holmes",
   "metadata": {},
   "source": [
    "### Methods of String\n",
    "    "
   ]
  },
  {
   "cell_type": "code",
   "execution_count": 74,
   "id": "opponent-fluid",
   "metadata": {},
   "outputs": [
    {
     "data": {
      "text/plain": [
       "['__add__',\n",
       " '__class__',\n",
       " '__contains__',\n",
       " '__delattr__',\n",
       " '__dir__',\n",
       " '__doc__',\n",
       " '__eq__',\n",
       " '__format__',\n",
       " '__ge__',\n",
       " '__getattribute__',\n",
       " '__getitem__',\n",
       " '__getnewargs__',\n",
       " '__gt__',\n",
       " '__hash__',\n",
       " '__init__',\n",
       " '__init_subclass__',\n",
       " '__iter__',\n",
       " '__le__',\n",
       " '__len__',\n",
       " '__lt__',\n",
       " '__mod__',\n",
       " '__mul__',\n",
       " '__ne__',\n",
       " '__new__',\n",
       " '__reduce__',\n",
       " '__reduce_ex__',\n",
       " '__repr__',\n",
       " '__rmod__',\n",
       " '__rmul__',\n",
       " '__setattr__',\n",
       " '__sizeof__',\n",
       " '__str__',\n",
       " '__subclasshook__',\n",
       " 'capitalize',\n",
       " 'casefold',\n",
       " 'center',\n",
       " 'count',\n",
       " 'encode',\n",
       " 'endswith',\n",
       " 'expandtabs',\n",
       " 'find',\n",
       " 'format',\n",
       " 'format_map',\n",
       " 'index',\n",
       " 'isalnum',\n",
       " 'isalpha',\n",
       " 'isascii',\n",
       " 'isdecimal',\n",
       " 'isdigit',\n",
       " 'isidentifier',\n",
       " 'islower',\n",
       " 'isnumeric',\n",
       " 'isprintable',\n",
       " 'isspace',\n",
       " 'istitle',\n",
       " 'isupper',\n",
       " 'join',\n",
       " 'ljust',\n",
       " 'lower',\n",
       " 'lstrip',\n",
       " 'maketrans',\n",
       " 'partition',\n",
       " 'removeprefix',\n",
       " 'removesuffix',\n",
       " 'replace',\n",
       " 'rfind',\n",
       " 'rindex',\n",
       " 'rjust',\n",
       " 'rpartition',\n",
       " 'rsplit',\n",
       " 'rstrip',\n",
       " 'split',\n",
       " 'splitlines',\n",
       " 'startswith',\n",
       " 'strip',\n",
       " 'swapcase',\n",
       " 'title',\n",
       " 'translate',\n",
       " 'upper',\n",
       " 'zfill']"
      ]
     },
     "execution_count": 74,
     "metadata": {},
     "output_type": "execute_result"
    }
   ],
   "source": [
    "dir(str)"
   ]
  },
  {
   "cell_type": "code",
   "execution_count": 75,
   "id": "veterinary-candle",
   "metadata": {},
   "outputs": [],
   "source": [
    "s = 'mastan'"
   ]
  },
  {
   "cell_type": "code",
   "execution_count": 76,
   "id": "handmade-trance",
   "metadata": {},
   "outputs": [
    {
     "data": {
      "text/plain": [
       "'mastan'"
      ]
     },
     "execution_count": 76,
     "metadata": {},
     "output_type": "execute_result"
    }
   ],
   "source": [
    "s"
   ]
  },
  {
   "cell_type": "code",
   "execution_count": 77,
   "id": "varying-analyst",
   "metadata": {},
   "outputs": [
    {
     "data": {
      "text/plain": [
       "'Mastan'"
      ]
     },
     "execution_count": 77,
     "metadata": {},
     "output_type": "execute_result"
    }
   ],
   "source": [
    "s.capitalize()"
   ]
  },
  {
   "cell_type": "code",
   "execution_count": 78,
   "id": "sustainable-atlantic",
   "metadata": {},
   "outputs": [
    {
     "data": {
      "text/plain": [
       "'mastan'"
      ]
     },
     "execution_count": 78,
     "metadata": {},
     "output_type": "execute_result"
    }
   ],
   "source": [
    "s"
   ]
  },
  {
   "cell_type": "code",
   "execution_count": 79,
   "id": "israeli-livestock",
   "metadata": {},
   "outputs": [],
   "source": [
    "s = s.capitalize()"
   ]
  },
  {
   "cell_type": "code",
   "execution_count": 80,
   "id": "intimate-palestinian",
   "metadata": {},
   "outputs": [
    {
     "data": {
      "text/plain": [
       "'Mastan'"
      ]
     },
     "execution_count": 80,
     "metadata": {},
     "output_type": "execute_result"
    }
   ],
   "source": [
    "s"
   ]
  },
  {
   "cell_type": "code",
   "execution_count": 81,
   "id": "greatest-twist",
   "metadata": {},
   "outputs": [
    {
     "data": {
      "text/plain": [
       "'MASTAN'"
      ]
     },
     "execution_count": 81,
     "metadata": {},
     "output_type": "execute_result"
    }
   ],
   "source": [
    "s.upper()"
   ]
  },
  {
   "cell_type": "code",
   "execution_count": 82,
   "id": "premier-pacific",
   "metadata": {},
   "outputs": [
    {
     "data": {
      "text/plain": [
       "'mastan'"
      ]
     },
     "execution_count": 82,
     "metadata": {},
     "output_type": "execute_result"
    }
   ],
   "source": [
    "s.lower()"
   ]
  },
  {
   "cell_type": "code",
   "execution_count": 83,
   "id": "restricted-dispute",
   "metadata": {},
   "outputs": [
    {
     "data": {
      "text/plain": [
       "2"
      ]
     },
     "execution_count": 83,
     "metadata": {},
     "output_type": "execute_result"
    }
   ],
   "source": [
    "s.count('a')"
   ]
  },
  {
   "cell_type": "code",
   "execution_count": 84,
   "id": "piano-malpractice",
   "metadata": {},
   "outputs": [
    {
     "data": {
      "text/plain": [
       "'Mastan'"
      ]
     },
     "execution_count": 84,
     "metadata": {},
     "output_type": "execute_result"
    }
   ],
   "source": [
    "s"
   ]
  },
  {
   "cell_type": "code",
   "execution_count": 85,
   "id": "duplicate-papua",
   "metadata": {},
   "outputs": [
    {
     "data": {
      "text/plain": [
       "b'Mastan'"
      ]
     },
     "execution_count": 85,
     "metadata": {},
     "output_type": "execute_result"
    }
   ],
   "source": [
    "s.encode()"
   ]
  },
  {
   "cell_type": "code",
   "execution_count": 86,
   "id": "moral-college",
   "metadata": {},
   "outputs": [],
   "source": [
    "s = s.encode()"
   ]
  },
  {
   "cell_type": "code",
   "execution_count": 87,
   "id": "personal-affiliation",
   "metadata": {},
   "outputs": [
    {
     "data": {
      "text/plain": [
       "b'Mastan'"
      ]
     },
     "execution_count": 87,
     "metadata": {},
     "output_type": "execute_result"
    }
   ],
   "source": [
    "s"
   ]
  },
  {
   "cell_type": "code",
   "execution_count": 89,
   "id": "recent-consciousness",
   "metadata": {},
   "outputs": [],
   "source": [
    "s = s.decode()"
   ]
  },
  {
   "cell_type": "code",
   "execution_count": 90,
   "id": "comic-identifier",
   "metadata": {},
   "outputs": [
    {
     "data": {
      "text/plain": [
       "'Mastan'"
      ]
     },
     "execution_count": 90,
     "metadata": {},
     "output_type": "execute_result"
    }
   ],
   "source": [
    "s"
   ]
  },
  {
   "cell_type": "code",
   "execution_count": 92,
   "id": "insured-bathroom",
   "metadata": {},
   "outputs": [
    {
     "data": {
      "text/plain": [
       "False"
      ]
     },
     "execution_count": 92,
     "metadata": {},
     "output_type": "execute_result"
    }
   ],
   "source": [
    "s.startswith(\"m\")"
   ]
  },
  {
   "cell_type": "code",
   "execution_count": 94,
   "id": "removable-transcription",
   "metadata": {},
   "outputs": [
    {
     "data": {
      "text/plain": [
       "False"
      ]
     },
     "execution_count": 94,
     "metadata": {},
     "output_type": "execute_result"
    }
   ],
   "source": [
    "s.endswith(\"a\")"
   ]
  },
  {
   "cell_type": "code",
   "execution_count": 95,
   "id": "collective-cleaners",
   "metadata": {},
   "outputs": [
    {
     "data": {
      "text/plain": [
       "'Mastan'"
      ]
     },
     "execution_count": 95,
     "metadata": {},
     "output_type": "execute_result"
    }
   ],
   "source": [
    "s"
   ]
  },
  {
   "cell_type": "code",
   "execution_count": 96,
   "id": "italian-miniature",
   "metadata": {},
   "outputs": [
    {
     "name": "stdout",
     "output_type": "stream",
     "text": [
      "Hi gopal I am from APSSDC \n"
     ]
    }
   ],
   "source": [
    "print(\"Hi {} I am from {} \".format(\"gopal\",\"APSSDC\"))"
   ]
  },
  {
   "cell_type": "code",
   "execution_count": 98,
   "id": "linear-truck",
   "metadata": {},
   "outputs": [
    {
     "name": "stdout",
     "output_type": "stream",
     "text": [
      "Hi gopal I am from APSSDC \n"
     ]
    }
   ],
   "source": [
    "print(\"Hi {1} I am from {0} \".format(\"APSSDC\",\"gopal\"))"
   ]
  },
  {
   "cell_type": "code",
   "execution_count": 99,
   "id": "according-appendix",
   "metadata": {},
   "outputs": [
    {
     "name": "stdout",
     "output_type": "stream",
     "text": [
      "Add of 5 and 6 is : \n"
     ]
    }
   ],
   "source": [
    "print(\"Add of {} and {} is : \".format(5,6))"
   ]
  },
  {
   "cell_type": "code",
   "execution_count": 100,
   "id": "skilled-mercury",
   "metadata": {},
   "outputs": [],
   "source": [
    "name = \" Hello Hi \""
   ]
  },
  {
   "cell_type": "code",
   "execution_count": 101,
   "id": "ultimate-creek",
   "metadata": {},
   "outputs": [
    {
     "data": {
      "text/plain": [
       "'Hello Hi'"
      ]
     },
     "execution_count": 101,
     "metadata": {},
     "output_type": "execute_result"
    }
   ],
   "source": [
    "name.strip()"
   ]
  },
  {
   "cell_type": "code",
   "execution_count": 102,
   "id": "powerful-content",
   "metadata": {},
   "outputs": [
    {
     "data": {
      "text/plain": [
       "'Hello Hi '"
      ]
     },
     "execution_count": 102,
     "metadata": {},
     "output_type": "execute_result"
    }
   ],
   "source": [
    "name.lstrip()"
   ]
  },
  {
   "cell_type": "code",
   "execution_count": 103,
   "id": "suburban-spine",
   "metadata": {},
   "outputs": [
    {
     "data": {
      "text/plain": [
       "' Hello Hi'"
      ]
     },
     "execution_count": 103,
     "metadata": {},
     "output_type": "execute_result"
    }
   ],
   "source": [
    "name.rstrip()"
   ]
  },
  {
   "cell_type": "code",
   "execution_count": 105,
   "id": "third-offense",
   "metadata": {},
   "outputs": [
    {
     "data": {
      "text/plain": [
       "['Raja', 'mastan', 'gopal', 'chaitanya']"
      ]
     },
     "execution_count": 105,
     "metadata": {},
     "output_type": "execute_result"
    }
   ],
   "source": [
    "names = \"Raja@mastan@gopal@chaitanya\"\n",
    "names.split(\"@\")"
   ]
  },
  {
   "cell_type": "code",
   "execution_count": null,
   "id": "outstanding-astronomy",
   "metadata": {},
   "outputs": [],
   "source": []
  }
 ],
 "metadata": {
  "kernelspec": {
   "display_name": "Python 3",
   "language": "python",
   "name": "python3"
  },
  "language_info": {
   "codemirror_mode": {
    "name": "ipython",
    "version": 3
   },
   "file_extension": ".py",
   "mimetype": "text/x-python",
   "name": "python",
   "nbconvert_exporter": "python",
   "pygments_lexer": "ipython3",
   "version": "3.9.1"
  }
 },
 "nbformat": 4,
 "nbformat_minor": 5
}
